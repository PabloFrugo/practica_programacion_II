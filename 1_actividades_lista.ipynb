{
 "cells": [
  {
   "cell_type": "markdown",
   "metadata": {},
   "source": [
    "1- Crear una lista que contenga nombres de provincias argentinas."
   ]
  },
  {
   "cell_type": "code",
   "execution_count": 19,
   "metadata": {},
   "outputs": [],
   "source": [
    "provincias = [\"Tierra del Fuego\", \"Mendoza\", \"Jujuy\", \"Buenos Aires\", \"Tucuman\", \"San Juan\"]"
   ]
  },
  {
   "cell_type": "markdown",
   "metadata": {},
   "source": [
    "2- Imprimir por pantalla el tercer elemento de la lista."
   ]
  },
  {
   "cell_type": "code",
   "execution_count": 20,
   "metadata": {},
   "outputs": [
    {
     "name": "stdout",
     "output_type": "stream",
     "text": [
      "En la lista de provincias, el recer elemento es: Jujuy\n"
     ]
    }
   ],
   "source": [
    "print(f\"En la lista de provincias, el recer elemento es: {provincias[2]}\")"
   ]
  },
  {
   "cell_type": "markdown",
   "metadata": {},
   "source": [
    "3- Imprimir por pantalla del segundo al cuarto elemento."
   ]
  },
  {
   "cell_type": "code",
   "execution_count": 16,
   "metadata": {},
   "outputs": [
    {
     "name": "stdout",
     "output_type": "stream",
     "text": [
      "['Mendoza', 'Jujuy', 'Buenos Aires']\n"
     ]
    }
   ],
   "source": [
    "print(provincias[1:4])"
   ]
  },
  {
   "cell_type": "markdown",
   "metadata": {},
   "source": [
    "4- Mostrar el tipo de dato de la lista."
   ]
  },
  {
   "cell_type": "code",
   "execution_count": 17,
   "metadata": {},
   "outputs": [
    {
     "name": "stdout",
     "output_type": "stream",
     "text": [
      "El tipo de dato de la lista es: <class 'list'>\n"
     ]
    }
   ],
   "source": [
    "print(f\"El tipo de dato de la lista es: {type(provincias)}\")"
   ]
  },
  {
   "cell_type": "markdown",
   "metadata": {},
   "source": [
    "5- Mostrar los primeros 4 elementos de la lista"
   ]
  },
  {
   "cell_type": "code",
   "execution_count": 10,
   "metadata": {},
   "outputs": [
    {
     "name": "stdout",
     "output_type": "stream",
     "text": [
      "['Tierra del Fuego', 'Mendoza', 'Jujuy', 'Buenos Aires']\n"
     ]
    }
   ],
   "source": [
    "print(provincias[0:4])"
   ]
  },
  {
   "cell_type": "markdown",
   "metadata": {},
   "source": [
    "6- Agregar una provincia mas a la lista que ya exista y otra que no."
   ]
  },
  {
   "cell_type": "code",
   "execution_count": 23,
   "metadata": {},
   "outputs": [
    {
     "name": "stdout",
     "output_type": "stream",
     "text": [
      "['Tierra del Fuego', 'Mendoza', 'Jujuy', 'Buenos Aires', 'Tucuman', 'San Juan', 'Jujuy', 'Rio Negro']\n"
     ]
    }
   ],
   "source": [
    "provincias.append(\"Jujuy\")\n",
    "provincias.append(\"Rio Negro\")\n",
    "print(provincias)"
   ]
  },
  {
   "cell_type": "markdown",
   "metadata": {},
   "source": [
    "7- Agregar una provincia, pero en la cuarta posicion."
   ]
  },
  {
   "cell_type": "code",
   "execution_count": 24,
   "metadata": {},
   "outputs": [
    {
     "name": "stdout",
     "output_type": "stream",
     "text": [
      "['Tierra del Fuego', 'Mendoza', 'Jujuy', 'La Rioja', 'Buenos Aires', 'Tucuman', 'San Juan', 'Jujuy', 'Rio Negro']\n"
     ]
    }
   ],
   "source": [
    "provincias.insert(3,\"La Rioja\")\n",
    "print(provincias)"
   ]
  },
  {
   "cell_type": "markdown",
   "metadata": {},
   "source": [
    "8- Extender otra lista a la ya creada."
   ]
  },
  {
   "cell_type": "code",
   "execution_count": 25,
   "metadata": {},
   "outputs": [],
   "source": [
    "provincias2 = [\"Santiago del Estero\", \"San Juan\"]"
   ]
  },
  {
   "cell_type": "code",
   "execution_count": 29,
   "metadata": {},
   "outputs": [
    {
     "name": "stdout",
     "output_type": "stream",
     "text": [
      "['Tierra del Fuego', 'Mendoza', 'Jujuy', 'La Rioja', 'Buenos Aires', 'Tucuman', 'San Juan', 'Jujuy', 'Rio Negro', 'Santiago del Estero', 'San Juan', 'Santiago del Estero', 'San Juan', 'Santiago del Estero', 'San Juan', 'Santiago del Estero', 'San Juan']\n"
     ]
    }
   ],
   "source": [
    "provincias.extend(provincias2)\n",
    "print(provincias)"
   ]
  },
  {
   "cell_type": "markdown",
   "metadata": {},
   "source": [
    "9- Eliminar un elemento de la lista."
   ]
  },
  {
   "cell_type": "code",
   "execution_count": 36,
   "metadata": {},
   "outputs": [
    {
     "name": "stdout",
     "output_type": "stream",
     "text": [
      "['Tierra del Fuego', 'Mendoza', 'Jujuy', 'La Rioja', 'Buenos Aires', 'Tucuman', 'San Juan', 'Jujuy', 'Rio Negro', 'Santiago del Estero']\n"
     ]
    }
   ],
   "source": [
    "provincias.pop()\n",
    "print(provincias)"
   ]
  },
  {
   "cell_type": "code",
   "execution_count": 37,
   "metadata": {},
   "outputs": [
    {
     "name": "stdout",
     "output_type": "stream",
     "text": [
      "['Tierra del Fuego', 'Mendoza', 'La Rioja', 'Buenos Aires', 'Tucuman', 'San Juan', 'Jujuy', 'Rio Negro', 'Santiago del Estero']\n"
     ]
    }
   ],
   "source": [
    "provincias.pop(2)\n",
    "print(provincias)"
   ]
  },
  {
   "cell_type": "markdown",
   "metadata": {},
   "source": [
    "10- Extraer el ultimo elemento de la lista, guardarlo en una variable e imprimirlo."
   ]
  },
  {
   "cell_type": "code",
   "execution_count": 48,
   "metadata": {},
   "outputs": [
    {
     "name": "stdout",
     "output_type": "stream",
     "text": [
      "La ultima provincia de la lista es: Santiago del Estero\n"
     ]
    }
   ],
   "source": [
    "ultima_provincia = provincias[len(provincias)-1]\n",
    "print(f\"La ultima provincia de la lista es: {ultima_provincia}\")"
   ]
  }
 ],
 "metadata": {
  "kernelspec": {
   "display_name": "Python 3",
   "language": "python",
   "name": "python3"
  },
  "language_info": {
   "codemirror_mode": {
    "name": "ipython",
    "version": 3
   },
   "file_extension": ".py",
   "mimetype": "text/x-python",
   "name": "python",
   "nbconvert_exporter": "python",
   "pygments_lexer": "ipython3",
   "version": "3.12.3"
  }
 },
 "nbformat": 4,
 "nbformat_minor": 2
}
