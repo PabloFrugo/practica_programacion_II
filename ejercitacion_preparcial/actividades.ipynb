{
 "cells": [
  {
   "cell_type": "markdown",
   "metadata": {},
   "source": [
    "1- Crea una lista de 10 números enteros. Escribir una función que devuelva la suma de todos los números."
   ]
  },
  {
   "cell_type": "code",
   "execution_count": 1,
   "metadata": {},
   "outputs": [],
   "source": [
    "mi_lista = [10, 50, 70, 80, 90, 20, 40, 60, 65, 45]\n",
    "def sumar_numeros(numeros):\n",
    "    suma = 0\n",
    "    for i in numeros:\n",
    "        suma = suma+i\n",
    "    return suma"
   ]
  },
  {
   "cell_type": "code",
   "execution_count": 2,
   "metadata": {},
   "outputs": [
    {
     "name": "stdout",
     "output_type": "stream",
     "text": [
      "530\n"
     ]
    }
   ],
   "source": [
    "sumas = sumar_numeros(mi_lista)\n",
    "print(sumas)"
   ]
  },
  {
   "cell_type": "markdown",
   "metadata": {},
   "source": [
    "2- Definir una tupla con 5 nombres de ciudaddes. Escribir una función que imprima cada ciudad en una línea separada."
   ]
  },
  {
   "cell_type": "code",
   "execution_count": 3,
   "metadata": {},
   "outputs": [],
   "source": [
    "ciudades = (\"Buenos Aires\", \"Ushuaia\", \"Río Grande\", \"La Plata\", \"Madryn\")\n",
    "def mostrar_ciudades(ciudad):\n",
    "        for i in ciudad:\n",
    "            print(i)"
   ]
  },
  {
   "cell_type": "code",
   "execution_count": 4,
   "metadata": {},
   "outputs": [
    {
     "name": "stdout",
     "output_type": "stream",
     "text": [
      "Buenos Aires\n",
      "Ushuaia\n",
      "Río Grande\n",
      "La Plata\n",
      "Madryn\n"
     ]
    }
   ],
   "source": [
    "mostrar_ciudades(ciudades)"
   ]
  },
  {
   "cell_type": "markdown",
   "metadata": {},
   "source": [
    "3- Crear un diccionario que contenga información sobre un libro (título, autor, año de publicación). Escribir una función que imprima la información del libro de manera formateada."
   ]
  },
  {
   "cell_type": "code",
   "execution_count": 5,
   "metadata": {},
   "outputs": [],
   "source": [
    "libro = {\"titulo\" : \"El mejor libro de la historia\", \"Autor\" : \"Yo\", \"Año\" : 2024}\n",
    "def mostrar_libro(libros):\n",
    "    for i in libros:\n",
    "        print(i,\":\",libros[i])"
   ]
  },
  {
   "cell_type": "code",
   "execution_count": 6,
   "metadata": {},
   "outputs": [
    {
     "name": "stdout",
     "output_type": "stream",
     "text": [
      "titulo : El mejor libro de la historia\n",
      "Autor : Yo\n",
      "Año : 2024\n"
     ]
    }
   ],
   "source": [
    "mostrar_libro(libro)"
   ]
  },
  {
   "cell_type": "markdown",
   "metadata": {},
   "source": [
    "4- Escribir un programa que pida al usuario un número y use un bucle for para impimir todos los números desde 1 hasta ese número. Usar break para salir del bucle si se ingresa un número negativo."
   ]
  },
  {
   "cell_type": "code",
   "execution_count": 7,
   "metadata": {},
   "outputs": [
    {
     "name": "stdout",
     "output_type": "stream",
     "text": [
      "1\n",
      "2\n",
      "3\n",
      "4\n",
      "5\n",
      "6\n",
      "7\n",
      "8\n",
      "9\n",
      "10\n",
      "11\n",
      "12\n",
      "13\n",
      "14\n",
      "15\n",
      "16\n",
      "17\n",
      "18\n",
      "19\n",
      "20\n"
     ]
    }
   ],
   "source": [
    "num = int(input(\"Ingrese un número: \"))\n",
    "for i in range(1, num + 1):\n",
    "    if i < 0:\n",
    "        break\n",
    "    else:\n",
    "        print(i)"
   ]
  },
  {
   "cell_type": "markdown",
   "metadata": {},
   "source": [
    "5- Crear una funcion que reciba una lista de números y devuelva una nueva lista que contenga solo los números pares. Utilizar continue para omitir los números impares."
   ]
  },
  {
   "cell_type": "code",
   "execution_count": 20,
   "metadata": {},
   "outputs": [],
   "source": [
    "lista_1 = [10, 15, 20, 25, 30, 40, 55, 70, 90]\n",
    "def numeros_pares(lista):\n",
    "    pares = []\n",
    "    for i in lista:\n",
    "        if i%2==0:\n",
    "            pares.append(i)\n",
    "        else:\n",
    "            continue\n",
    "    return pares"
   ]
  },
  {
   "cell_type": "code",
   "execution_count": 21,
   "metadata": {},
   "outputs": [
    {
     "name": "stdout",
     "output_type": "stream",
     "text": [
      "[10, 20, 30, 40, 70, 90]\n"
     ]
    }
   ],
   "source": [
    "mostrar_pares = numeros_pares(lista_1)\n",
    "print(mostrar_pares)"
   ]
  },
  {
   "cell_type": "markdown",
   "metadata": {},
   "source": [
    "6- Escribir un programa que cuente cuantos números positivos y negativos hay en una lista dada. Utilizar un bucle for y condicionales."
   ]
  },
  {
   "cell_type": "code",
   "execution_count": 22,
   "metadata": {},
   "outputs": [
    {
     "name": "stdout",
     "output_type": "stream",
     "text": [
      "La cantidad de negativos es: 3\n",
      "La cantidad de positivos es: 5\n"
     ]
    }
   ],
   "source": [
    "positivos_negativos = [10, -5, 50, -10, 30, -25, 60, 80]\n",
    "negativos = []\n",
    "positivos = []\n",
    "for i in positivos_negativos:\n",
    "    if i < 0:\n",
    "        negativos.append(i)\n",
    "    else:\n",
    "        positivos.append(i)\n",
    "print(f\"La cantidad de negativos es: {len(negativos)}\")\n",
    "print(f\"La cantidad de positivos es: {len(positivos)}\")"
   ]
  },
  {
   "cell_type": "code",
   "execution_count": 24,
   "metadata": {},
   "outputs": [
    {
     "name": "stdout",
     "output_type": "stream",
     "text": [
      "La cantidad de negativos es: 3\n",
      "La cantidad de positivos es: 5\n"
     ]
    }
   ],
   "source": [
    "positivos_negativos = [10, -5, 50, -10, 30, -25, 60, 80]\n",
    "negativos = 0\n",
    "positivos = 0\n",
    "for i in positivos_negativos:\n",
    "    if i < 0:\n",
    "        negativos +=1\n",
    "    else:\n",
    "        positivos +=1\n",
    "print(f\"La cantidad de negativos es: {negativos}\")\n",
    "print(f\"La cantidad de positivos es: {positivos}\")"
   ]
  },
  {
   "cell_type": "markdown",
   "metadata": {},
   "source": [
    "7- Crear una lista de tuplas, donde cada tupla contenga el nombre de un estudianye y su califiación. Escribir una función que devuelva el nombre del estudiante con la califiación más alta."
   ]
  },
  {
   "cell_type": "code",
   "execution_count": 36,
   "metadata": {},
   "outputs": [],
   "source": [
    "estudiante_notas = [(\"Gonzalo\", 8), (\"Juan\", 9), (\"Pedro\", 7), (\"Dario\", 10), (\"Julian\", 5)]\n",
    "calificacion_mas_al = 0\n",
    "nombre_estudiante = \"\"\n",
    "def calificacion_mas_alta(lista):\n",
    "    for i in lista:\n",
    "        global calificacion_mas_al\n",
    "        global nombre_estudiante\n",
    "        if i[1] > calificacion_mas_al:\n",
    "            calificacion_mas_al = i[1]\n",
    "            nombre_estudiante = i[0]\n",
    "    return nombre_estudiante, calificacion_mas_al"
   ]
  },
  {
   "cell_type": "code",
   "execution_count": 37,
   "metadata": {},
   "outputs": [
    {
     "name": "stdout",
     "output_type": "stream",
     "text": [
      "La calificacion más alta la obtuvo Dario con una nota de 10\n"
     ]
    }
   ],
   "source": [
    "registro_estudiante = calificacion_mas_alta(estudiante_notas)\n",
    "print(f\"La calificacion más alta la obtuvo {registro_estudiante[0]} con una nota de {registro_estudiante[1]}\")"
   ]
  }
 ],
 "metadata": {
  "kernelspec": {
   "display_name": "Python 3",
   "language": "python",
   "name": "python3"
  },
  "language_info": {
   "codemirror_mode": {
    "name": "ipython",
    "version": 3
   },
   "file_extension": ".py",
   "mimetype": "text/x-python",
   "name": "python",
   "nbconvert_exporter": "python",
   "pygments_lexer": "ipython3",
   "version": "3.12.3"
  }
 },
 "nbformat": 4,
 "nbformat_minor": 2
}
