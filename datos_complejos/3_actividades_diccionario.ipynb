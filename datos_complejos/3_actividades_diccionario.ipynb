{
 "cells": [
  {
   "cell_type": "markdown",
   "metadata": {},
   "source": [
    "1- Crear un diccionario que contenga nombre, edad y carrera de un alumno y mostrar el diccionario completo."
   ]
  },
  {
   "cell_type": "code",
   "execution_count": 8,
   "metadata": {},
   "outputs": [
    {
     "name": "stdout",
     "output_type": "stream",
     "text": [
      "{'Nombre': 'Pablo', 'Edad': 31, 'Carrera': 'Analisis de Datos e Inteligencia Artificial'}\n"
     ]
    }
   ],
   "source": [
    "alumno = {\"Nombre\" : \"Pablo\", \"Edad\" : 31, \"Carrera\" : \"Analisis de Datos e Inteligencia Artificial\"}\n",
    "print(alumno)"
   ]
  },
  {
   "cell_type": "markdown",
   "metadata": {},
   "source": [
    "2- Utilizar el metodo get para mostrar el valor de la clave nombre."
   ]
  },
  {
   "cell_type": "code",
   "execution_count": 9,
   "metadata": {},
   "outputs": [
    {
     "data": {
      "text/plain": [
       "'Pablo'"
      ]
     },
     "execution_count": 9,
     "metadata": {},
     "output_type": "execute_result"
    }
   ],
   "source": [
    "alumno.get(\"Nombre\")"
   ]
  },
  {
   "cell_type": "markdown",
   "metadata": {},
   "source": [
    "3- Cambiar la edad del alumno y mostrar el diccionario completo."
   ]
  },
  {
   "cell_type": "code",
   "execution_count": 10,
   "metadata": {},
   "outputs": [
    {
     "name": "stdout",
     "output_type": "stream",
     "text": [
      "{'Nombre': 'Pablo', 'Edad': 25, 'Carrera': 'Analisis de Datos e Inteligencia Artificial'}\n"
     ]
    }
   ],
   "source": [
    "alumno[\"Edad\"]=25\n",
    "print(alumno)"
   ]
  },
  {
   "cell_type": "markdown",
   "metadata": {},
   "source": [
    "4- Agregar un par clave valor que contenga el sexo del alumno. Mostrar el diccionario completo."
   ]
  },
  {
   "cell_type": "code",
   "execution_count": 12,
   "metadata": {},
   "outputs": [
    {
     "name": "stdout",
     "output_type": "stream",
     "text": [
      "{'Nombre': 'Pablo', 'Edad': 25, 'Carrera': 'Analisis de Datos e Inteligencia Artificial', 'Sexo': 'Masculino'}\n"
     ]
    }
   ],
   "source": [
    "alumno[\"Sexo\"]=\"Masculino\"\n",
    "print(alumno)"
   ]
  },
  {
   "cell_type": "markdown",
   "metadata": {},
   "source": [
    "5- Usar el metodo pop() para remover la edad del alumno. Mostrar el diccionario completo."
   ]
  },
  {
   "cell_type": "code",
   "execution_count": 13,
   "metadata": {},
   "outputs": [
    {
     "name": "stdout",
     "output_type": "stream",
     "text": [
      "{'Nombre': 'Pablo', 'Carrera': 'Analisis de Datos e Inteligencia Artificial', 'Sexo': 'Masculino'}\n"
     ]
    }
   ],
   "source": [
    "alumno.pop(\"Edad\")\n",
    "print(alumno)"
   ]
  },
  {
   "cell_type": "markdown",
   "metadata": {},
   "source": [
    "6- Crear un diccionario que contenga las notas de un alumno en tres materias. Las materias son programacion II, ciencia de datos, programacion I."
   ]
  },
  {
   "cell_type": "code",
   "execution_count": 14,
   "metadata": {},
   "outputs": [
    {
     "name": "stdout",
     "output_type": "stream",
     "text": [
      "{'Programacion II': 8, 'Ciencia de Datos': 7, 'Programacion I': 9}\n"
     ]
    }
   ],
   "source": [
    "notas = {\"Programacion II\" : 8, \"Ciencia de Datos\" : 7, \"Programacion I\" : 9}\n",
    "print(notas)"
   ]
  },
  {
   "cell_type": "code",
   "execution_count": 16,
   "metadata": {},
   "outputs": [
    {
     "name": "stdout",
     "output_type": "stream",
     "text": [
      "{'Nombre': 'Pablo', 'Carrera': 'Analisis de Datos e Inteligencia Artificial', 'Sexo': 'Masculino', 'notas': {'Programacion II': 8, 'Ciencia de Datos': 7, 'Programacion I': 9}}\n"
     ]
    }
   ],
   "source": [
    "alumno[\"notas\"] = {\"Programacion II\" : 8, \"Ciencia de Datos\" : 7, \"Programacion I\" : 9}\n",
    "print(alumno)"
   ]
  },
  {
   "cell_type": "markdown",
   "metadata": {},
   "source": [
    "7- Mostrar todos los items del diccionario notas."
   ]
  },
  {
   "cell_type": "code",
   "execution_count": null,
   "metadata": {},
   "outputs": [
    {
     "name": "stdout",
     "output_type": "stream",
     "text": [
      "{'Programacion II': 8, 'Ciencia de Datos': 7, 'Programacion I': 9}\n"
     ]
    }
   ],
   "source": [
    "print(alumno[\"notas\"])"
   ]
  },
  {
   "cell_type": "code",
   "execution_count": 18,
   "metadata": {},
   "outputs": [
    {
     "data": {
      "text/plain": [
       "dict_items([('Programacion II', 8), ('Ciencia de Datos', 7), ('Programacion I', 9)])"
      ]
     },
     "execution_count": 18,
     "metadata": {},
     "output_type": "execute_result"
    }
   ],
   "source": [
    "notas.items()"
   ]
  },
  {
   "cell_type": "code",
   "execution_count": 19,
   "metadata": {},
   "outputs": [
    {
     "data": {
      "text/plain": [
       "dict_values([8, 7, 9])"
      ]
     },
     "execution_count": 19,
     "metadata": {},
     "output_type": "execute_result"
    }
   ],
   "source": [
    "notas.values()"
   ]
  },
  {
   "cell_type": "code",
   "execution_count": 20,
   "metadata": {},
   "outputs": [
    {
     "data": {
      "text/plain": [
       "dict_keys(['Programacion II', 'Ciencia de Datos', 'Programacion I'])"
      ]
     },
     "execution_count": 20,
     "metadata": {},
     "output_type": "execute_result"
    }
   ],
   "source": [
    "notas.keys()"
   ]
  },
  {
   "cell_type": "markdown",
   "metadata": {},
   "source": [
    "8- Crear un nuevo diccionario que sea una copia del diccionario de notas del alumno. Mostrar los datos del nuevo diccionario."
   ]
  },
  {
   "cell_type": "code",
   "execution_count": 28,
   "metadata": {},
   "outputs": [
    {
     "name": "stdout",
     "output_type": "stream",
     "text": [
      "{'Programacion II': 8, 'Ciencia de Datos': 7, 'Programacion I': 9}\n"
     ]
    }
   ],
   "source": [
    "notas2 = notas.copy()\n",
    "print(notas2)"
   ]
  },
  {
   "cell_type": "markdown",
   "metadata": {},
   "source": [
    "9- Mostrar los valores del diccioanrio notas."
   ]
  },
  {
   "cell_type": "code",
   "execution_count": 25,
   "metadata": {},
   "outputs": [
    {
     "data": {
      "text/plain": [
       "dict_values([8, 7, 9])"
      ]
     },
     "execution_count": 25,
     "metadata": {},
     "output_type": "execute_result"
    }
   ],
   "source": [
    "notas.values()"
   ]
  },
  {
   "cell_type": "markdown",
   "metadata": {},
   "source": [
    "10- Mostrar la longitud del diccionario notas."
   ]
  },
  {
   "cell_type": "code",
   "execution_count": 29,
   "metadata": {},
   "outputs": [
    {
     "name": "stdout",
     "output_type": "stream",
     "text": [
      "El largo de mi diccionario notas es: 3\n"
     ]
    }
   ],
   "source": [
    "print(f\"El largo de mi diccionario notas es: {len(notas)}\")"
   ]
  }
 ],
 "metadata": {
  "kernelspec": {
   "display_name": "Python 3",
   "language": "python",
   "name": "python3"
  },
  "language_info": {
   "codemirror_mode": {
    "name": "ipython",
    "version": 3
   },
   "file_extension": ".py",
   "mimetype": "text/x-python",
   "name": "python",
   "nbconvert_exporter": "python",
   "pygments_lexer": "ipython3",
   "version": "3.12.3"
  }
 },
 "nbformat": 4,
 "nbformat_minor": 2
}
